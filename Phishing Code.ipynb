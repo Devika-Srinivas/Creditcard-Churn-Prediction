{
 "cells": [
  {
   "cell_type": "markdown",
   "metadata": {
    "id": "lFwktUA6a7zH"
   },
   "source": [
    "# Phishing Attack Prediction"
   ]
  },
  {
   "cell_type": "markdown",
   "metadata": {
    "id": "9DXfa773a7zZ"
   },
   "source": [
    "## 1/ Import Libraries"
   ]
  },
  {
   "cell_type": "code",
   "execution_count": 2,
   "metadata": {
    "id": "n8yqRIuha7zn"
   },
   "outputs": [],
   "source": [
    "#CodeSection\n",
    "import pandas as pd\n",
    "import numpy as np"
   ]
  },
  {
   "cell_type": "markdown",
   "metadata": {
    "id": "wRz6crvoa7zo"
   },
   "source": [
    "## 2/ Import Data"
   ]
  },
  {
   "cell_type": "code",
   "execution_count": 3,
   "metadata": {
    "id": "3u-V5dA4a7zp"
   },
   "outputs": [],
   "source": [
    "#CodeSection3\n",
    "train = pd.read_csv(\"input/phishing_data.csv\")"
   ]
  },
  {
   "cell_type": "code",
   "execution_count": 4,
   "metadata": {},
   "outputs": [
    {
     "data": {
      "text/html": [
       "<div>\n",
       "<style scoped>\n",
       "    .dataframe tbody tr th:only-of-type {\n",
       "        vertical-align: middle;\n",
       "    }\n",
       "\n",
       "    .dataframe tbody tr th {\n",
       "        vertical-align: top;\n",
       "    }\n",
       "\n",
       "    .dataframe thead th {\n",
       "        text-align: right;\n",
       "    }\n",
       "</style>\n",
       "<table border=\"1\" class=\"dataframe\">\n",
       "  <thead>\n",
       "    <tr style=\"text-align: right;\">\n",
       "      <th></th>\n",
       "      <th>url</th>\n",
       "      <th>length_url</th>\n",
       "      <th>length_hostname</th>\n",
       "      <th>ip</th>\n",
       "      <th>nb_dots</th>\n",
       "      <th>nb_hyphens</th>\n",
       "      <th>nb_at</th>\n",
       "      <th>nb_qm</th>\n",
       "      <th>nb_and</th>\n",
       "      <th>nb_or</th>\n",
       "      <th>...</th>\n",
       "      <th>domain_in_title</th>\n",
       "      <th>domain_with_copyright</th>\n",
       "      <th>whois_registered_domain</th>\n",
       "      <th>domain_registration_length</th>\n",
       "      <th>domain_age</th>\n",
       "      <th>web_traffic</th>\n",
       "      <th>dns_record</th>\n",
       "      <th>google_index</th>\n",
       "      <th>page_rank</th>\n",
       "      <th>status</th>\n",
       "    </tr>\n",
       "  </thead>\n",
       "  <tbody>\n",
       "    <tr>\n",
       "      <th>0</th>\n",
       "      <td>http://www.progarchives.com/album.asp?id=61737</td>\n",
       "      <td>46</td>\n",
       "      <td>20</td>\n",
       "      <td>zero</td>\n",
       "      <td>3</td>\n",
       "      <td>zero</td>\n",
       "      <td>0</td>\n",
       "      <td>1</td>\n",
       "      <td>0</td>\n",
       "      <td>0</td>\n",
       "      <td>...</td>\n",
       "      <td>1</td>\n",
       "      <td>one</td>\n",
       "      <td>0</td>\n",
       "      <td>627</td>\n",
       "      <td>6678</td>\n",
       "      <td>78526</td>\n",
       "      <td>0</td>\n",
       "      <td>0</td>\n",
       "      <td>5</td>\n",
       "      <td>phishing</td>\n",
       "    </tr>\n",
       "    <tr>\n",
       "      <th>1</th>\n",
       "      <td>http://signin.eday.co.uk.ws.edayisapi.dllsign....</td>\n",
       "      <td>128</td>\n",
       "      <td>120</td>\n",
       "      <td>0</td>\n",
       "      <td>10</td>\n",
       "      <td>0</td>\n",
       "      <td>0</td>\n",
       "      <td>0</td>\n",
       "      <td>0</td>\n",
       "      <td>0</td>\n",
       "      <td>...</td>\n",
       "      <td>1</td>\n",
       "      <td>zero</td>\n",
       "      <td>0</td>\n",
       "      <td>300</td>\n",
       "      <td>65</td>\n",
       "      <td>0</td>\n",
       "      <td>0</td>\n",
       "      <td>1</td>\n",
       "      <td>0</td>\n",
       "      <td>phishing</td>\n",
       "    </tr>\n",
       "    <tr>\n",
       "      <th>2</th>\n",
       "      <td>http://www.avevaconstruction.com/blesstool/ima...</td>\n",
       "      <td>52</td>\n",
       "      <td>25</td>\n",
       "      <td>0</td>\n",
       "      <td>3</td>\n",
       "      <td>0</td>\n",
       "      <td>0</td>\n",
       "      <td>0</td>\n",
       "      <td>0</td>\n",
       "      <td>0</td>\n",
       "      <td>...</td>\n",
       "      <td>1</td>\n",
       "      <td>zero</td>\n",
       "      <td>0</td>\n",
       "      <td>119</td>\n",
       "      <td>1707</td>\n",
       "      <td>0</td>\n",
       "      <td>0</td>\n",
       "      <td>1</td>\n",
       "      <td>0</td>\n",
       "      <td>phishing</td>\n",
       "    </tr>\n",
       "    <tr>\n",
       "      <th>3</th>\n",
       "      <td>http://www.jp519.com/</td>\n",
       "      <td>21</td>\n",
       "      <td>13</td>\n",
       "      <td>0</td>\n",
       "      <td>2</td>\n",
       "      <td>0</td>\n",
       "      <td>0</td>\n",
       "      <td>0</td>\n",
       "      <td>0</td>\n",
       "      <td>0</td>\n",
       "      <td>...</td>\n",
       "      <td>1</td>\n",
       "      <td>one</td>\n",
       "      <td>0</td>\n",
       "      <td>130</td>\n",
       "      <td>1331</td>\n",
       "      <td>0</td>\n",
       "      <td>0</td>\n",
       "      <td>0</td>\n",
       "      <td>0</td>\n",
       "      <td>legitimate</td>\n",
       "    </tr>\n",
       "    <tr>\n",
       "      <th>4</th>\n",
       "      <td>https://www.velocidrone.com/</td>\n",
       "      <td>28</td>\n",
       "      <td>19</td>\n",
       "      <td>0</td>\n",
       "      <td>2</td>\n",
       "      <td>0</td>\n",
       "      <td>0</td>\n",
       "      <td>0</td>\n",
       "      <td>0</td>\n",
       "      <td>0</td>\n",
       "      <td>...</td>\n",
       "      <td>0</td>\n",
       "      <td>zero</td>\n",
       "      <td>0</td>\n",
       "      <td>164</td>\n",
       "      <td>1662</td>\n",
       "      <td>312044</td>\n",
       "      <td>0</td>\n",
       "      <td>0</td>\n",
       "      <td>4</td>\n",
       "      <td>legitimate</td>\n",
       "    </tr>\n",
       "  </tbody>\n",
       "</table>\n",
       "<p>5 rows × 89 columns</p>\n",
       "</div>"
      ],
      "text/plain": [
       "                                                 url  length_url  \\\n",
       "0     http://www.progarchives.com/album.asp?id=61737          46   \n",
       "1  http://signin.eday.co.uk.ws.edayisapi.dllsign....         128   \n",
       "2  http://www.avevaconstruction.com/blesstool/ima...          52   \n",
       "3                              http://www.jp519.com/          21   \n",
       "4                       https://www.velocidrone.com/          28   \n",
       "\n",
       "   length_hostname    ip  nb_dots nb_hyphens  nb_at  nb_qm  nb_and  nb_or  \\\n",
       "0               20  zero        3       zero      0      1       0      0   \n",
       "1              120     0       10          0      0      0       0      0   \n",
       "2               25     0        3          0      0      0       0      0   \n",
       "3               13     0        2          0      0      0       0      0   \n",
       "4               19     0        2          0      0      0       0      0   \n",
       "\n",
       "   ...  domain_in_title  domain_with_copyright  whois_registered_domain  \\\n",
       "0  ...                1                    one                        0   \n",
       "1  ...                1                   zero                        0   \n",
       "2  ...                1                   zero                        0   \n",
       "3  ...                1                    one                        0   \n",
       "4  ...                0                   zero                        0   \n",
       "\n",
       "   domain_registration_length  domain_age  web_traffic  dns_record  \\\n",
       "0                         627        6678        78526           0   \n",
       "1                         300          65            0           0   \n",
       "2                         119        1707            0           0   \n",
       "3                         130        1331            0           0   \n",
       "4                         164        1662       312044           0   \n",
       "\n",
       "   google_index  page_rank      status  \n",
       "0             0          5    phishing  \n",
       "1             1          0    phishing  \n",
       "2             1          0    phishing  \n",
       "3             0          0  legitimate  \n",
       "4             0          4  legitimate  \n",
       "\n",
       "[5 rows x 89 columns]"
      ]
     },
     "execution_count": 4,
     "metadata": {},
     "output_type": "execute_result"
    }
   ],
   "source": [
    "train.head()"
   ]
  },
  {
   "cell_type": "markdown",
   "metadata": {
    "id": "k-SeaUk9a7zp"
   },
   "source": [
    "## 3/ Combine both Datasets (train, test)"
   ]
  },
  {
   "cell_type": "code",
   "execution_count": 5,
   "metadata": {
    "id": "LOCJ0YdIa7zq"
   },
   "outputs": [],
   "source": [
    "#CodeSection4\n",
    "#all_data = [train, test]"
   ]
  },
  {
   "cell_type": "markdown",
   "metadata": {
    "id": "ox_afLNJtkyO"
   },
   "source": [
    "### Check Combined Data \n",
    "- Missing Value\n",
    "- Data Types"
   ]
  },
  {
   "cell_type": "code",
   "execution_count": 6,
   "metadata": {},
   "outputs": [
    {
     "data": {
      "text/html": [
       "<div>\n",
       "<style scoped>\n",
       "    .dataframe tbody tr th:only-of-type {\n",
       "        vertical-align: middle;\n",
       "    }\n",
       "\n",
       "    .dataframe tbody tr th {\n",
       "        vertical-align: top;\n",
       "    }\n",
       "\n",
       "    .dataframe thead th {\n",
       "        text-align: right;\n",
       "    }\n",
       "</style>\n",
       "<table border=\"1\" class=\"dataframe\">\n",
       "  <thead>\n",
       "    <tr style=\"text-align: right;\">\n",
       "      <th></th>\n",
       "      <th>url</th>\n",
       "      <th>length_url</th>\n",
       "      <th>length_hostname</th>\n",
       "      <th>ip</th>\n",
       "      <th>nb_dots</th>\n",
       "      <th>nb_hyphens</th>\n",
       "      <th>nb_at</th>\n",
       "      <th>nb_qm</th>\n",
       "      <th>nb_and</th>\n",
       "      <th>nb_or</th>\n",
       "      <th>...</th>\n",
       "      <th>domain_in_title</th>\n",
       "      <th>domain_with_copyright</th>\n",
       "      <th>whois_registered_domain</th>\n",
       "      <th>domain_registration_length</th>\n",
       "      <th>domain_age</th>\n",
       "      <th>web_traffic</th>\n",
       "      <th>dns_record</th>\n",
       "      <th>google_index</th>\n",
       "      <th>page_rank</th>\n",
       "      <th>status</th>\n",
       "    </tr>\n",
       "  </thead>\n",
       "  <tbody>\n",
       "    <tr>\n",
       "      <th>0</th>\n",
       "      <td>http://www.progarchives.com/album.asp?id=61737</td>\n",
       "      <td>46</td>\n",
       "      <td>20</td>\n",
       "      <td>zero</td>\n",
       "      <td>3</td>\n",
       "      <td>zero</td>\n",
       "      <td>0</td>\n",
       "      <td>1</td>\n",
       "      <td>0</td>\n",
       "      <td>0</td>\n",
       "      <td>...</td>\n",
       "      <td>1</td>\n",
       "      <td>one</td>\n",
       "      <td>0</td>\n",
       "      <td>627</td>\n",
       "      <td>6678</td>\n",
       "      <td>78526</td>\n",
       "      <td>0</td>\n",
       "      <td>0</td>\n",
       "      <td>5</td>\n",
       "      <td>phishing</td>\n",
       "    </tr>\n",
       "    <tr>\n",
       "      <th>1</th>\n",
       "      <td>http://signin.eday.co.uk.ws.edayisapi.dllsign....</td>\n",
       "      <td>128</td>\n",
       "      <td>120</td>\n",
       "      <td>0</td>\n",
       "      <td>10</td>\n",
       "      <td>0</td>\n",
       "      <td>0</td>\n",
       "      <td>0</td>\n",
       "      <td>0</td>\n",
       "      <td>0</td>\n",
       "      <td>...</td>\n",
       "      <td>1</td>\n",
       "      <td>zero</td>\n",
       "      <td>0</td>\n",
       "      <td>300</td>\n",
       "      <td>65</td>\n",
       "      <td>0</td>\n",
       "      <td>0</td>\n",
       "      <td>1</td>\n",
       "      <td>0</td>\n",
       "      <td>phishing</td>\n",
       "    </tr>\n",
       "    <tr>\n",
       "      <th>2</th>\n",
       "      <td>http://www.avevaconstruction.com/blesstool/ima...</td>\n",
       "      <td>52</td>\n",
       "      <td>25</td>\n",
       "      <td>0</td>\n",
       "      <td>3</td>\n",
       "      <td>0</td>\n",
       "      <td>0</td>\n",
       "      <td>0</td>\n",
       "      <td>0</td>\n",
       "      <td>0</td>\n",
       "      <td>...</td>\n",
       "      <td>1</td>\n",
       "      <td>zero</td>\n",
       "      <td>0</td>\n",
       "      <td>119</td>\n",
       "      <td>1707</td>\n",
       "      <td>0</td>\n",
       "      <td>0</td>\n",
       "      <td>1</td>\n",
       "      <td>0</td>\n",
       "      <td>phishing</td>\n",
       "    </tr>\n",
       "    <tr>\n",
       "      <th>3</th>\n",
       "      <td>http://www.jp519.com/</td>\n",
       "      <td>21</td>\n",
       "      <td>13</td>\n",
       "      <td>0</td>\n",
       "      <td>2</td>\n",
       "      <td>0</td>\n",
       "      <td>0</td>\n",
       "      <td>0</td>\n",
       "      <td>0</td>\n",
       "      <td>0</td>\n",
       "      <td>...</td>\n",
       "      <td>1</td>\n",
       "      <td>one</td>\n",
       "      <td>0</td>\n",
       "      <td>130</td>\n",
       "      <td>1331</td>\n",
       "      <td>0</td>\n",
       "      <td>0</td>\n",
       "      <td>0</td>\n",
       "      <td>0</td>\n",
       "      <td>legitimate</td>\n",
       "    </tr>\n",
       "    <tr>\n",
       "      <th>4</th>\n",
       "      <td>https://www.velocidrone.com/</td>\n",
       "      <td>28</td>\n",
       "      <td>19</td>\n",
       "      <td>0</td>\n",
       "      <td>2</td>\n",
       "      <td>0</td>\n",
       "      <td>0</td>\n",
       "      <td>0</td>\n",
       "      <td>0</td>\n",
       "      <td>0</td>\n",
       "      <td>...</td>\n",
       "      <td>0</td>\n",
       "      <td>zero</td>\n",
       "      <td>0</td>\n",
       "      <td>164</td>\n",
       "      <td>1662</td>\n",
       "      <td>312044</td>\n",
       "      <td>0</td>\n",
       "      <td>0</td>\n",
       "      <td>4</td>\n",
       "      <td>legitimate</td>\n",
       "    </tr>\n",
       "  </tbody>\n",
       "</table>\n",
       "<p>5 rows × 89 columns</p>\n",
       "</div>"
      ],
      "text/plain": [
       "                                                 url  length_url  \\\n",
       "0     http://www.progarchives.com/album.asp?id=61737          46   \n",
       "1  http://signin.eday.co.uk.ws.edayisapi.dllsign....         128   \n",
       "2  http://www.avevaconstruction.com/blesstool/ima...          52   \n",
       "3                              http://www.jp519.com/          21   \n",
       "4                       https://www.velocidrone.com/          28   \n",
       "\n",
       "   length_hostname    ip  nb_dots nb_hyphens  nb_at  nb_qm  nb_and  nb_or  \\\n",
       "0               20  zero        3       zero      0      1       0      0   \n",
       "1              120     0       10          0      0      0       0      0   \n",
       "2               25     0        3          0      0      0       0      0   \n",
       "3               13     0        2          0      0      0       0      0   \n",
       "4               19     0        2          0      0      0       0      0   \n",
       "\n",
       "   ...  domain_in_title  domain_with_copyright  whois_registered_domain  \\\n",
       "0  ...                1                    one                        0   \n",
       "1  ...                1                   zero                        0   \n",
       "2  ...                1                   zero                        0   \n",
       "3  ...                1                    one                        0   \n",
       "4  ...                0                   zero                        0   \n",
       "\n",
       "   domain_registration_length  domain_age  web_traffic  dns_record  \\\n",
       "0                         627        6678        78526           0   \n",
       "1                         300          65            0           0   \n",
       "2                         119        1707            0           0   \n",
       "3                         130        1331            0           0   \n",
       "4                         164        1662       312044           0   \n",
       "\n",
       "   google_index  page_rank      status  \n",
       "0             0          5    phishing  \n",
       "1             1          0    phishing  \n",
       "2             1          0    phishing  \n",
       "3             0          0  legitimate  \n",
       "4             0          4  legitimate  \n",
       "\n",
       "[5 rows x 89 columns]"
      ]
     },
     "execution_count": 6,
     "metadata": {},
     "output_type": "execute_result"
    }
   ],
   "source": [
    "train.head()"
   ]
  },
  {
   "cell_type": "code",
   "execution_count": 7,
   "metadata": {},
   "outputs": [
    {
     "data": {
      "text/plain": [
       "url                0\n",
       "length_url         0\n",
       "length_hostname    0\n",
       "ip                 0\n",
       "nb_dots            0\n",
       "                  ..\n",
       "web_traffic        0\n",
       "dns_record         0\n",
       "google_index       0\n",
       "page_rank          0\n",
       "status             0\n",
       "Length: 89, dtype: int64"
      ]
     },
     "execution_count": 7,
     "metadata": {},
     "output_type": "execute_result"
    }
   ],
   "source": [
    "train.isnull().sum()"
   ]
  },
  {
   "cell_type": "code",
   "execution_count": 8,
   "metadata": {
    "colab": {
     "base_uri": "https://localhost:8080/"
    },
    "executionInfo": {
     "elapsed": 1149,
     "status": "ok",
     "timestamp": 1619001216096,
     "user": {
      "displayName": "Data Science Master Minds",
      "photoUrl": "",
      "userId": "13790691282857793894"
     },
     "user_tz": -330
    },
    "id": "yCMGv2mOa7zu",
    "outputId": "11689c0a-f808-4322-b114-58af7ac0cbf8"
   },
   "outputs": [
    {
     "name": "stdout",
     "output_type": "stream",
     "text": [
      "<class 'pandas.core.frame.DataFrame'>\n",
      "RangeIndex: 11481 entries, 0 to 11480\n",
      "Data columns (total 89 columns):\n",
      " #   Column                      Non-Null Count  Dtype  \n",
      "---  ------                      --------------  -----  \n",
      " 0   url                         11481 non-null  object \n",
      " 1   length_url                  11481 non-null  int64  \n",
      " 2   length_hostname             11481 non-null  int64  \n",
      " 3   ip                          11481 non-null  object \n",
      " 4   nb_dots                     11481 non-null  int64  \n",
      " 5   nb_hyphens                  11481 non-null  object \n",
      " 6   nb_at                       11481 non-null  int64  \n",
      " 7   nb_qm                       11481 non-null  int64  \n",
      " 8   nb_and                      11481 non-null  int64  \n",
      " 9   nb_or                       11481 non-null  int64  \n",
      " 10  nb_eq                       11481 non-null  int64  \n",
      " 11  nb_underscore               11481 non-null  int64  \n",
      " 12  nb_tilde                    11481 non-null  int64  \n",
      " 13  nb_percent                  11481 non-null  int64  \n",
      " 14  nb_slash                    11481 non-null  int64  \n",
      " 15  nb_star                     11481 non-null  int64  \n",
      " 16  nb_colon                    11481 non-null  int64  \n",
      " 17  nb_comma                    11481 non-null  int64  \n",
      " 18  nb_semicolumn               11481 non-null  int64  \n",
      " 19  nb_dollar                   11481 non-null  int64  \n",
      " 20  nb_space                    11481 non-null  int64  \n",
      " 21  nb_www                      11481 non-null  int64  \n",
      " 22  nb_com                      11481 non-null  int64  \n",
      " 23  nb_dslash                   11481 non-null  int64  \n",
      " 24  http_in_path                11481 non-null  int64  \n",
      " 25  https_token                 11481 non-null  int64  \n",
      " 26  ratio_digits_url            11481 non-null  float64\n",
      " 27  ratio_digits_host           11481 non-null  float64\n",
      " 28  punycode                    11481 non-null  int64  \n",
      " 29  port                        11481 non-null  int64  \n",
      " 30  tld_in_path                 11481 non-null  int64  \n",
      " 31  tld_in_subdomain            11481 non-null  int64  \n",
      " 32  abnormal_subdomain          11481 non-null  int64  \n",
      " 33  nb_subdomains               11481 non-null  int64  \n",
      " 34  prefix_suffix               11481 non-null  int64  \n",
      " 35  random_domain               11481 non-null  int64  \n",
      " 36  shortening_service          11481 non-null  int64  \n",
      " 37  path_extension              11481 non-null  int64  \n",
      " 38  nb_redirection              11481 non-null  int64  \n",
      " 39  nb_external_redirection     11481 non-null  int64  \n",
      " 40  length_words_raw            11481 non-null  int64  \n",
      " 41  char_repeat                 11481 non-null  int64  \n",
      " 42  shortest_words_raw          11481 non-null  int64  \n",
      " 43  shortest_word_host          11481 non-null  int64  \n",
      " 44  shortest_word_path          11481 non-null  int64  \n",
      " 45  longest_words_raw           11481 non-null  int64  \n",
      " 46  longest_word_host           11481 non-null  int64  \n",
      " 47  longest_word_path           11481 non-null  int64  \n",
      " 48  avg_words_raw               11481 non-null  float64\n",
      " 49  avg_word_host               11481 non-null  float64\n",
      " 50  avg_word_path               11481 non-null  float64\n",
      " 51  phish_hints                 11481 non-null  int64  \n",
      " 52  domain_in_brand             11481 non-null  int64  \n",
      " 53  brand_in_subdomain          11481 non-null  int64  \n",
      " 54  brand_in_path               11481 non-null  int64  \n",
      " 55  suspecious_tld              11481 non-null  int64  \n",
      " 56  statistical_report          11481 non-null  int64  \n",
      " 57  nb_hyperlinks               11481 non-null  int64  \n",
      " 58  ratio_intHyperlinks         11481 non-null  float64\n",
      " 59  ratio_extHyperlinks         11481 non-null  float64\n",
      " 60  ratio_nullHyperlinks        11481 non-null  int64  \n",
      " 61  nb_extCSS                   11481 non-null  int64  \n",
      " 62  ratio_intRedirection        11481 non-null  int64  \n",
      " 63  ratio_extRedirection        11481 non-null  float64\n",
      " 64  ratio_intErrors             11481 non-null  int64  \n",
      " 65  ratio_extErrors             11481 non-null  float64\n",
      " 66  login_form                  11481 non-null  int64  \n",
      " 67  external_favicon            11481 non-null  int64  \n",
      " 68  links_in_tags               11481 non-null  float64\n",
      " 69  submit_email                11481 non-null  int64  \n",
      " 70  ratio_intMedia              11481 non-null  float64\n",
      " 71  ratio_extMedia              11481 non-null  float64\n",
      " 72  sfh                         11481 non-null  int64  \n",
      " 73  iframe                      11481 non-null  int64  \n",
      " 74  popup_window                11481 non-null  int64  \n",
      " 75  safe_anchor                 11481 non-null  float64\n",
      " 76  onmouseover                 11481 non-null  int64  \n",
      " 77  right_clic                  11481 non-null  int64  \n",
      " 78  empty_title                 11481 non-null  int64  \n",
      " 79  domain_in_title             11481 non-null  int64  \n",
      " 80  domain_with_copyright       11481 non-null  object \n",
      " 81  whois_registered_domain     11481 non-null  int64  \n",
      " 82  domain_registration_length  11481 non-null  int64  \n",
      " 83  domain_age                  11481 non-null  int64  \n",
      " 84  web_traffic                 11481 non-null  int64  \n",
      " 85  dns_record                  11481 non-null  int64  \n",
      " 86  google_index                11481 non-null  int64  \n",
      " 87  page_rank                   11481 non-null  int64  \n",
      " 88  status                      11481 non-null  object \n",
      "dtypes: float64(13), int64(71), object(5)\n",
      "memory usage: 7.8+ MB\n"
     ]
    }
   ],
   "source": [
    "#CodeSection6\n",
    "# Check Data types for each variable\n",
    "train.info()"
   ]
  },
  {
   "cell_type": "markdown",
   "metadata": {
    "id": "I5pEcQeA-g8O"
   },
   "source": [
    "## 4/ Numerical Processing"
   ]
  },
  {
   "cell_type": "markdown",
   "metadata": {
    "id": "am7cBDhea70L"
   },
   "source": [
    "### 4.1/ Impute Numerical Variables"
   ]
  },
  {
   "cell_type": "code",
   "execution_count": 9,
   "metadata": {},
   "outputs": [],
   "source": [
    "numerics = ['int64', 'float64']"
   ]
  },
  {
   "cell_type": "code",
   "execution_count": 10,
   "metadata": {
    "id": "HyWOSnV8a70M"
   },
   "outputs": [
    {
     "name": "stdout",
     "output_type": "stream",
     "text": [
      "['length_url', 'length_hostname', 'nb_dots', 'nb_at', 'nb_qm', 'nb_and', 'nb_or', 'nb_eq', 'nb_underscore', 'nb_tilde', 'nb_percent', 'nb_slash', 'nb_star', 'nb_colon', 'nb_comma', 'nb_semicolumn', 'nb_dollar', 'nb_space', 'nb_www', 'nb_com', 'nb_dslash', 'http_in_path', 'https_token', 'ratio_digits_url', 'ratio_digits_host', 'punycode', 'port', 'tld_in_path', 'tld_in_subdomain', 'abnormal_subdomain', 'nb_subdomains', 'prefix_suffix', 'random_domain', 'shortening_service', 'path_extension', 'nb_redirection', 'nb_external_redirection', 'length_words_raw', 'char_repeat', 'shortest_words_raw', 'shortest_word_host', 'shortest_word_path', 'longest_words_raw', 'longest_word_host', 'longest_word_path', 'avg_words_raw', 'avg_word_host', 'avg_word_path', 'phish_hints', 'domain_in_brand', 'brand_in_subdomain', 'brand_in_path', 'suspecious_tld', 'statistical_report', 'nb_hyperlinks', 'ratio_intHyperlinks', 'ratio_extHyperlinks', 'ratio_nullHyperlinks', 'nb_extCSS', 'ratio_intRedirection', 'ratio_extRedirection', 'ratio_intErrors', 'ratio_extErrors', 'login_form', 'external_favicon', 'links_in_tags', 'submit_email', 'ratio_intMedia', 'ratio_extMedia', 'sfh', 'iframe', 'popup_window', 'safe_anchor', 'onmouseover', 'right_clic', 'empty_title', 'domain_in_title', 'whois_registered_domain', 'domain_registration_length', 'domain_age', 'web_traffic', 'dns_record', 'google_index', 'page_rank']\n"
     ]
    }
   ],
   "source": [
    "#CodeSection7\n",
    "# Identify all Numerical features\n",
    "#numerical_features = ['ApplicantIncome', 'CoapplicantIncome', 'LoanAmount', 'Loan_Amount_Term', 'Credit_History']\n",
    "numerical_features = train.select_dtypes(include =numerics).columns.to_list()\n",
    "print(numerical_features)"
   ]
  },
  {
   "cell_type": "code",
   "execution_count": 11,
   "metadata": {
    "id": "wKeHM9QPw34r"
   },
   "outputs": [],
   "source": [
    "#CodeSection8\n",
    "# Import SimpleImputer\n",
    "from sklearn.impute import SimpleImputer"
   ]
  },
  {
   "cell_type": "code",
   "execution_count": 12,
   "metadata": {
    "colab": {
     "base_uri": "https://localhost:8080/"
    },
    "executionInfo": {
     "elapsed": 987,
     "status": "ok",
     "timestamp": 1619001243655,
     "user": {
      "displayName": "Data Science Master Minds",
      "photoUrl": "",
      "userId": "13790691282857793894"
     },
     "user_tz": -330
    },
    "id": "m9x91IzDxJzs",
    "outputId": "0759697a-07ed-4490-a5a0-2a7695c74f23"
   },
   "outputs": [
    {
     "data": {
      "text/plain": [
       "SimpleImputer(strategy='median')"
      ]
     },
     "execution_count": 12,
     "metadata": {},
     "output_type": "execute_result"
    }
   ],
   "source": [
    "#CodeSection9\n",
    "\n",
    "#Initiate SimpleImputer\n",
    "num_impute = SimpleImputer(strategy = 'median')\n",
    "\n",
    "# Fit SimpleImputer on Numerical Features\n",
    "\n",
    "num_impute.fit(train[numerical_features])"
   ]
  },
  {
   "cell_type": "code",
   "execution_count": 13,
   "metadata": {
    "id": "epvvVNkayVtm"
   },
   "outputs": [],
   "source": [
    "#CodeSection10\n",
    "# Impute Train and Test\n",
    "train[numerical_features] = num_impute.transform(train[numerical_features])"
   ]
  },
  {
   "cell_type": "markdown",
   "metadata": {
    "id": "RbXNGRsG0SPc"
   },
   "source": [
    "### 4.2/ Outlier Strategy"
   ]
  },
  {
   "cell_type": "code",
   "execution_count": 14,
   "metadata": {
    "id": "Yq5wHuyv0Z8C"
   },
   "outputs": [],
   "source": [
    "#CodeSection11\n",
    "\n",
    "# Write a loop to detect and impute Outliers\n",
    "for num_var in numerical_features:\n",
    "    Q1 = train[num_var].quantile(0.25)\n",
    "    Q3 = train[num_var].quantile(0.75)\n",
    "\n",
    "    IQR = Q3-Q1\n",
    "\n",
    "    Lower_Whisker = Q1 - 1.5*IQR\n",
    "    Upper_Whisker = Q3 + 1.5*IQR\n",
    "    train[num_var] = train[num_var].apply(lambda x : Upper_Whisker if x > Upper_Whisker else x)"
   ]
  },
  {
   "cell_type": "markdown",
   "metadata": {
    "id": "xeAnDRX-0sdl"
   },
   "source": [
    "### 4.3/ Transformation Strategy"
   ]
  },
  {
   "cell_type": "code",
   "execution_count": 15,
   "metadata": {
    "id": "X_NG_Fhb-5JX"
   },
   "outputs": [],
   "source": [
    "#CodeSection12\n",
    "# Import StandardScaler\n",
    "from sklearn.preprocessing import StandardScaler"
   ]
  },
  {
   "cell_type": "code",
   "execution_count": 16,
   "metadata": {
    "colab": {
     "base_uri": "https://localhost:8080/"
    },
    "executionInfo": {
     "elapsed": 1114,
     "status": "ok",
     "timestamp": 1619001271080,
     "user": {
      "displayName": "Data Science Master Minds",
      "photoUrl": "",
      "userId": "13790691282857793894"
     },
     "user_tz": -330
    },
    "id": "dh5j-7VX_F17",
    "outputId": "b1198d71-c005-49b1-d8dd-a434485a0cdb"
   },
   "outputs": [
    {
     "data": {
      "text/plain": [
       "StandardScaler()"
      ]
     },
     "execution_count": 16,
     "metadata": {},
     "output_type": "execute_result"
    }
   ],
   "source": [
    "#CodeSection13\n",
    "\n",
    "#Initiate StandardScaler\n",
    "num_scale = StandardScaler()\n",
    "\n",
    "# Fit StandardScaler\n",
    "num_scale.fit(train[numerical_features])"
   ]
  },
  {
   "cell_type": "code",
   "execution_count": 17,
   "metadata": {
    "id": "ut4Uq32Z_STX"
   },
   "outputs": [],
   "source": [
    "#CodeSection14\n",
    "# Scale Train and Test\n",
    "\n",
    "train[numerical_features] = num_scale.transform(train[numerical_features])"
   ]
  },
  {
   "cell_type": "markdown",
   "metadata": {
    "id": "HSChDYATa70P"
   },
   "source": [
    "## 5/ Impute Categorical Variables"
   ]
  },
  {
   "cell_type": "markdown",
   "metadata": {
    "id": "D-qhcS6Ma70P"
   },
   "source": [
    "### Impute all Categorical Variables at once"
   ]
  },
  {
   "cell_type": "code",
   "execution_count": 18,
   "metadata": {},
   "outputs": [],
   "source": [
    "categories = ['object']"
   ]
  },
  {
   "cell_type": "code",
   "execution_count": 19,
   "metadata": {
    "id": "_JgFfORJa70Q"
   },
   "outputs": [
    {
     "name": "stdout",
     "output_type": "stream",
     "text": [
      "['url', 'ip', 'nb_hyphens', 'domain_with_copyright', 'status']\n"
     ]
    }
   ],
   "source": [
    "#CodeSection15\n",
    "# Identify all Categorical Features\n",
    "categorical_features = train.select_dtypes(include =categories).columns.to_list()\n",
    "print(categorical_features)"
   ]
  },
  {
   "cell_type": "code",
   "execution_count": 20,
   "metadata": {
    "id": "VDCqOfI9zJrF"
   },
   "outputs": [],
   "source": [
    "#CodeSection16\n",
    "# Import SimpleImputer\n",
    "from sklearn.impute import SimpleImputer"
   ]
  },
  {
   "cell_type": "code",
   "execution_count": 21,
   "metadata": {
    "colab": {
     "base_uri": "https://localhost:8080/"
    },
    "executionInfo": {
     "elapsed": 1144,
     "status": "ok",
     "timestamp": 1619002257879,
     "user": {
      "displayName": "Data Science Master Minds",
      "photoUrl": "",
      "userId": "13790691282857793894"
     },
     "user_tz": -330
    },
    "id": "jUWQ0FFpzMOa",
    "outputId": "9f88b02c-c280-46b0-d8be-2bd22eb47830"
   },
   "outputs": [
    {
     "data": {
      "text/plain": [
       "SimpleImputer(strategy='most_frequent')"
      ]
     },
     "execution_count": 21,
     "metadata": {},
     "output_type": "execute_result"
    }
   ],
   "source": [
    "#CodeSection17\n",
    "\n",
    "#Initiate SimpleImputer\n",
    "cat_impute = SimpleImputer(strategy = 'most_frequent')\n",
    "\n",
    "# Fit SimpleImputer\n",
    "cat_impute.fit(train[categorical_features])"
   ]
  },
  {
   "cell_type": "code",
   "execution_count": 22,
   "metadata": {
    "id": "567yT6Eaz5jg"
   },
   "outputs": [],
   "source": [
    "#CodeSection18\n",
    "# Impute Train and Test\n",
    "#for dataset in all_data:\n",
    "train[categorical_features] = cat_impute.transform(train[categorical_features])"
   ]
  },
  {
   "cell_type": "markdown",
   "metadata": {
    "id": "Yn4guIioa70V"
   },
   "source": [
    "## 6/ Now Re Check all Features"
   ]
  },
  {
   "cell_type": "code",
   "execution_count": 23,
   "metadata": {
    "colab": {
     "base_uri": "https://localhost:8080/"
    },
    "executionInfo": {
     "elapsed": 871,
     "status": "ok",
     "timestamp": 1619002266610,
     "user": {
      "displayName": "Data Science Master Minds",
      "photoUrl": "",
      "userId": "13790691282857793894"
     },
     "user_tz": -330
    },
    "id": "MHrl6vMma70W",
    "outputId": "bd7dfaac-6f9e-4eb6-b79a-562ad1e336ab"
   },
   "outputs": [],
   "source": [
    "#CodeSection19\n",
    "# Combine both to check Missing Value\n",
    "#pd.concat([train, test], axis = 0).isnull().sum()"
   ]
  },
  {
   "cell_type": "markdown",
   "metadata": {
    "id": "6Ade98pva70W"
   },
   "source": [
    "## 8/ Prepare Data for Model Model"
   ]
  },
  {
   "cell_type": "code",
   "execution_count": 24,
   "metadata": {
    "colab": {
     "base_uri": "https://localhost:8080/",
     "height": 204
    },
    "executionInfo": {
     "elapsed": 968,
     "status": "ok",
     "timestamp": 1619002312922,
     "user": {
      "displayName": "Data Science Master Minds",
      "photoUrl": "",
      "userId": "13790691282857793894"
     },
     "user_tz": -330
    },
    "id": "TEySx0Nza70X",
    "outputId": "a2855197-4fe1-4f0f-affa-e5dbdb7ec150"
   },
   "outputs": [],
   "source": [
    "#CodeSection20\n",
    "# Check First 5 Rows of Test Data\n",
    "#test.head()"
   ]
  },
  {
   "cell_type": "code",
   "execution_count": 25,
   "metadata": {
    "id": "A6yS1pqza70X"
   },
   "outputs": [],
   "source": [
    "#CodeSection21\n",
    "# Get X and y Variables for your Dataset\n",
    "X = train.drop(['status','url'], axis =  1)\n",
    "y = train['status']"
   ]
  },
  {
   "cell_type": "markdown",
   "metadata": {},
   "source": [
    "# Split Data into Train and Test "
   ]
  },
  {
   "cell_type": "code",
   "execution_count": 26,
   "metadata": {},
   "outputs": [],
   "source": [
    "from sklearn.model_selection import train_test_split"
   ]
  },
  {
   "cell_type": "code",
   "execution_count": 27,
   "metadata": {},
   "outputs": [],
   "source": [
    "X_train, X_test, y_train, y_test = train_test_split(X, y, test_size=0.25, random_state=42)"
   ]
  },
  {
   "cell_type": "markdown",
   "metadata": {
    "id": "w1gJQ7Qsa70Y"
   },
   "source": [
    "### Create Dummy Variables for  Categorical Variables"
   ]
  },
  {
   "cell_type": "code",
   "execution_count": 28,
   "metadata": {
    "id": "ipcXGR73a70Y"
   },
   "outputs": [],
   "source": [
    "#CodeSection22\n",
    "# Get Dummy Variables\n",
    "#X = pd.get_dummies(X, drop_first = True)  # Keep only n - 1 Variables - Use \"drop_first = True\""
   ]
  },
  {
   "cell_type": "code",
   "execution_count": 29,
   "metadata": {},
   "outputs": [],
   "source": [
    "X_train = pd.get_dummies(X_train)"
   ]
  },
  {
   "cell_type": "code",
   "execution_count": 30,
   "metadata": {},
   "outputs": [],
   "source": [
    "X_test = pd.get_dummies(X_test)"
   ]
  },
  {
   "cell_type": "markdown",
   "metadata": {
    "id": "p62cfPzVa70Y"
   },
   "source": [
    "## 9/ Build Model"
   ]
  },
  {
   "cell_type": "code",
   "execution_count": 31,
   "metadata": {
    "id": "GdLbPTCXa70Y"
   },
   "outputs": [],
   "source": [
    "#CodeSection23\n",
    "#Import Logistic Regression Library\n",
    "from sklearn.linear_model import LogisticRegression\n",
    "\n",
    "#Initialize LR\n",
    "clf = LogisticRegression(max_iter = 1000)"
   ]
  },
  {
   "cell_type": "code",
   "execution_count": 32,
   "metadata": {
    "id": "WrD0GfaSa70Z"
   },
   "outputs": [],
   "source": [
    "#CodeSection24\n",
    "# Fit Model\n",
    "model = clf.fit(X_train, y_train)"
   ]
  },
  {
   "cell_type": "markdown",
   "metadata": {
    "id": "Omv4nWgwa70Z"
   },
   "source": [
    "### Check Accuracy of Model on Train Data"
   ]
  },
  {
   "cell_type": "code",
   "execution_count": 33,
   "metadata": {
    "id": "PQi2u6uQa70Z"
   },
   "outputs": [],
   "source": [
    "#CodeSection25\n",
    "# Predict on Train Data\n",
    "y_train_pred = model.predict(X_train)"
   ]
  },
  {
   "cell_type": "code",
   "execution_count": 34,
   "metadata": {},
   "outputs": [
    {
     "data": {
      "text/plain": [
       "(8610,)"
      ]
     },
     "execution_count": 34,
     "metadata": {},
     "output_type": "execute_result"
    }
   ],
   "source": [
    "y_train_pred.shape"
   ]
  },
  {
   "cell_type": "markdown",
   "metadata": {
    "id": "AqPB9qLLa70a"
   },
   "source": [
    "### We can use a Accuracy Function from Metrics\n",
    "- Check Train Accuracy"
   ]
  },
  {
   "cell_type": "code",
   "execution_count": 35,
   "metadata": {
    "id": "L8VJNsHIa70a"
   },
   "outputs": [],
   "source": [
    "#CodeSection26\n",
    "# Import metrics library\n",
    "from sklearn.metrics import accuracy_score"
   ]
  },
  {
   "cell_type": "code",
   "execution_count": 41,
   "metadata": {
    "id": "jeeS7nkja70a"
   },
   "outputs": [],
   "source": [
    "#CodeSection27\n",
    "# get Actual \"y\" variables (use \"y_true\" as variable)\n",
    "y_true = y_train"
   ]
  },
  {
   "cell_type": "code",
   "execution_count": 37,
   "metadata": {
    "colab": {
     "base_uri": "https://localhost:8080/"
    },
    "executionInfo": {
     "elapsed": 783,
     "status": "ok",
     "timestamp": 1619002884638,
     "user": {
      "displayName": "Data Science Master Minds",
      "photoUrl": "",
      "userId": "13790691282857793894"
     },
     "user_tz": -330
    },
    "id": "p7llEg7aa70b",
    "outputId": "78c08e77-5efe-49ec-f0ee-104542b7a8fd"
   },
   "outputs": [
    {
     "name": "stdout",
     "output_type": "stream",
     "text": [
      " Train Accuracy : 93.6%\n"
     ]
    }
   ],
   "source": [
    "#CodeSection28\n",
    "# Print Train Accuracy\n",
    "print(f\" Train Accuracy : {accuracy_score(y_true, y_train_pred):0.1%}\")"
   ]
  },
  {
   "cell_type": "code",
   "execution_count": 38,
   "metadata": {},
   "outputs": [],
   "source": [
    "y_train_pred = model.predict(X_train)"
   ]
  },
  {
   "cell_type": "code",
   "execution_count": 39,
   "metadata": {},
   "outputs": [
    {
     "name": "stdout",
     "output_type": "stream",
     "text": [
      " Test Accuracy : 93.6%\n"
     ]
    }
   ],
   "source": [
    "print(f\" Test Accuracy : {accuracy_score(y_train, y_train_pred):0.1%}\")"
   ]
  }
 ],
 "metadata": {
  "colab": {
   "name": "InClass Working Code 5 - Combine Missing, Outlier and Transformation Strategy.ipynb",
   "provenance": [],
   "toc_visible": true
  },
  "kernelspec": {
   "display_name": "Python 3 (ipykernel)",
   "language": "python",
   "name": "python3"
  },
  "language_info": {
   "codemirror_mode": {
    "name": "ipython",
    "version": 3
   },
   "file_extension": ".py",
   "mimetype": "text/x-python",
   "name": "python",
   "nbconvert_exporter": "python",
   "pygments_lexer": "ipython3",
   "version": "3.9.7"
  }
 },
 "nbformat": 4,
 "nbformat_minor": 1
}
